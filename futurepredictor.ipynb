{
  "nbformat": 4,
  "nbformat_minor": 0,
  "metadata": {
    "colab": {
      "provenance": []
    },
    "kernelspec": {
      "name": "python3",
      "display_name": "Python 3"
    },
    "language_info": {
      "name": "python"
    }
  },
  "cells": [
    {
      "cell_type": "code",
      "source": [
        "import requests\n",
        "import time\n",
        "from bs4 import BeautifulSoup\n",
        "import pandas as pd"
      ],
      "metadata": {
        "id": "3sw0asbUFzOU"
      },
      "execution_count": 2,
      "outputs": []
    },
    {
      "cell_type": "code",
      "execution_count": 3,
      "metadata": {
        "id": "-R_thC519kHK"
      },
      "outputs": [],
      "source": [
        "# Read in CSV file of webscrapped data. \n",
        "matches = pd.read_csv(\"matches.csv\", index_col = 0)\n",
        "\n",
        "# Convert categorical values into numerical values. \n",
        "matches[\"Date\"] = pd.to_datetime(matches[\"Date\"])\n",
        "matches[\"Venue_Code\"] = matches[\"Venue\"].astype(\"category\").cat.codes\n",
        "matches[\"Opp_Code\"] = matches[\"Opponent\"].astype(\"category\").cat.codes\n",
        "matches[\"Hour\"] = matches[\"Time\"].str.replace(\":.+\", \"\", regex = True).astype(\"int\")\n",
        "matches[\"Day_Code\"] = matches[\"Date\"].dt.dayofweek\n",
        "matches[\"Target\"] = (matches[\"Result\"] == \"W\").astype(\"int\")"
      ]
    },
    {
      "cell_type": "code",
      "source": [
        "from sklearn.ensemble import RandomForestClassifier\n",
        "from sklearn.metrics import accuracy_score\n",
        "from sklearn.metrics import precision_score"
      ],
      "metadata": {
        "id": "ma5AWS3O9ucd"
      },
      "execution_count": 4,
      "outputs": []
    },
    {
      "cell_type": "code",
      "source": [
        "# Initialize Random Forest for training and testing. \n",
        "rf = RandomForestClassifier(n_estimators = 50, min_samples_split = 10, random_state = 1)"
      ],
      "metadata": {
        "id": "b9wSOJ069wMf"
      },
      "execution_count": 5,
      "outputs": []
    },
    {
      "cell_type": "code",
      "source": [
        "def rolling_averages(group, cols, new_cols):\n",
        "  group = group.sort_values(\"Date\")\n",
        "  for col in cols:\n",
        "    group[col] = pd.to_numeric(group[col], errors='coerce')\n",
        "  rolling_stats = group[cols].rolling(3, closed = \"left\").mean()\n",
        "  group[new_cols] = rolling_stats\n",
        "  group = group.dropna(subset = new_cols)\n",
        "  return group\n",
        "\n",
        "def make_future_predictions(data, predictors):\n",
        "  train = data[data[\"Date\"] < '2024-6-29']\n",
        "  test = data[data[\"Date\"] >= '2024-6-29']\n",
        "  predictors = [\"Venue_Code\", \"Opp_Code\", \"Hour\", \"Day_Code\"]\n",
        "  rf.fit(train[predictors], train[\"Target\"])\n",
        "  preds = rf.predict(test[predictors])\n",
        "  combined = pd.DataFrame(dict(actual = test[\"Target\"], prediction = preds))\n",
        "  precision = precision_score(test[\"Target\"], preds)\n",
        "  return combined, precision"
      ],
      "metadata": {
        "id": "oeFKojAD9yEO"
      },
      "execution_count": 6,
      "outputs": []
    },
    {
      "cell_type": "code",
      "source": [
        "# Categorical predictors.\n",
        "predictors = [\"Venue_Code\", \"Opp_Code\", \"Hour\", \"Day_Code\"]\n",
        "\n",
        "# Quantitive predictors (which are used as rolling averages).\n",
        "cols = [\"Poss\", \"GF\", \"GA\", \"Sh\", \"SoT\", \"PK\", \"PKatt\"]\n",
        "new_cols = [f\"{c}_Rolling\" for c in cols]\n",
        "\n",
        "# Look at each team and compute rolling averages.
        "matches_rolling = matches.groupby(\"Team\").apply(lambda x: rolling_averages(x, cols, new_cols))\n",
        "# As above creates a dataframe for each team, which isn't needed; just drop level to have one dataframe.
        "matches_rolling = matches_rolling.droplevel('Team')\n",
        # Create unique indicies for each row of data.
        "matches_rolling.index = range(matches_rolling.shape[0])\n",
        "\n",
        "combined, precision = make_future_predictions(matches_rolling, predictors + new_cols)\n",
        "combined = combined.merge(matches_rolling[[\"Date\", \"Team\", \"Opponent\", \"Result\"]], left_index = True, right_index = True)\n",
        "\n",
        "# Put predictions into a CSV.\n",
        "combined.to_csv(\"future_predictions.csv\")"
      ],
      "metadata": {
        "id": "tJgPiNbb93LB"
      },
      "execution_count": 8,
      "outputs": []
    }
  ]
}
