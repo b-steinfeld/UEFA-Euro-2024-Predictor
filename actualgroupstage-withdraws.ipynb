{
  "nbformat": 4,
  "nbformat_minor": 0,
  "metadata": {
    "colab": {
      "provenance": []
    },
    "kernelspec": {
      "name": "python3",
      "display_name": "Python 3"
    },
    "language_info": {
      "name": "python"
    }
  },
  "cells": [
    {
      "cell_type": "code",
      "source": [
        "import requests\n",
        "import time\n",
        "from bs4 import BeautifulSoup\n",
        "import pandas as pd"
      ],
      "metadata": {
        "id": "GOYqkNgagv2s"
      },
      "execution_count": 28,
      "outputs": []
    },
    {
      "cell_type": "code",
      "execution_count": 29,
      "metadata": {
        "id": "6gTn2iZVfpup"
      },
      "outputs": [],
      "source": [
        "matches = pd.read_csv(\"matchesplusgroupstage.csv\", index_col = 0)\n",
        "\n",
        "matches[\"Date\"] = pd.to_datetime(matches[\"Date\"])\n",
        "matches[\"Venue_Code\"] = matches[\"Venue\"].astype(\"category\").cat.codes\n",
        "matches[\"Opp_Code\"] = matches[\"Opponent\"].astype(\"category\").cat.codes\n",
        "matches[\"Hour\"] = matches[\"Time\"].str.replace(\":.+\", \"\", regex = True).astype(\"int\")\n",
        "matches[\"Day_Code\"] = matches[\"Date\"].dt.dayofweek\n",
        "matches[\"Target\"] = (matches[\"Result\"] == \"W\").astype(\"int\")"
      ]
    },
    {
      "cell_type": "code",
      "source": [
        "from sklearn.ensemble import RandomForestClassifier\n",
        "from sklearn.metrics import accuracy_score\n",
        "from sklearn.metrics import precision_score"
      ],
      "metadata": {
        "id": "EI6lQ6DTgi_n"
      },
      "execution_count": 30,
      "outputs": []
    },
    {
      "cell_type": "code",
      "source": [
        "rf = RandomForestClassifier(n_estimators = 50, min_samples_split = 10, random_state = 1)"
      ],
      "metadata": {
        "id": "e7wxI2BKglEm"
      },
      "execution_count": 31,
      "outputs": []
    },
    {
      "cell_type": "code",
      "source": [
        "def rolling_averages(group, cols, new_cols):\n",
        "  group = group.sort_values(\"Date\")\n",
        "  for col in cols:\n",
        "    group[col] = pd.to_numeric(group[col], errors='coerce')\n",
        "  rolling_stats = group[cols].rolling(3, closed = \"left\").mean()\n",
        "  group[new_cols] = rolling_stats\n",
        "  group = group.dropna(subset = new_cols)\n",
        "  return group\n",
        "\n",
        "def make_predictions(data, predictors):\n",
        "  train = data[(data[\"Date\"] < '2024-6-14')]\n",
        "  test = data[(data[\"Date\"] >= '2024-6-14')]\n",
        "  predictors = [\"Venue_Code\", \"Opp_Code\", \"Hour\", \"Day_Code\"]\n",
        "  rf.fit(train[predictors], train[\"Target\"])\n",
        "  preds = rf.predict(test[predictors])\n",
        "  combined = pd.DataFrame(dict(actual = test[\"Target\"], prediction = preds))\n",
        "  precision = precision_score(test[\"Target\"], preds)\n",
        "  return combined, precision"
      ],
      "metadata": {
        "id": "hHizuGnRgmzJ"
      },
      "execution_count": 36,
      "outputs": []
    },
    {
      "cell_type": "code",
      "source": [
        "predictors = [\"Venue_Code\", \"Opp_Code\", \"Hour\", \"Day_Code\"]\n",
        "\n",
        "cols = [\"Poss\", \"GF\", \"GA\", \"Sh\", \"SoT\", \"PK\", \"PKatt\"]\n",
        "new_cols = [f\"{c}_Rolling\" for c in cols]\n",
        "\n",
        "matches_rolling = matches.groupby(\"Team\").apply(lambda x: rolling_averages(x, cols, new_cols))\n",
        "matches_rolling = matches_rolling.droplevel('Team')\n",
        "matches_rolling.index = range(matches_rolling.shape[0])\n",
        "\n",
        "combined, precision = make_predictions(matches_rolling, predictors + new_cols)\n",
        "combined = combined.merge(matches_rolling[[\"Date\", \"Team\", \"Opponent\", \"Result\"]], left_index = True, right_index = True)\n",
        "\n",
        "combined.to_csv(\"past_predictions.csv\")\n",
        "print(precision)"
      ],
      "metadata": {
        "colab": {
          "base_uri": "https://localhost:8080/"
        },
        "id": "bPStSu34gnke",
        "outputId": "29b57371-2a28-4270-e5cb-50b59a40f81c"
      },
      "execution_count": 37,
      "outputs": [
        {
          "output_type": "stream",
          "name": "stdout",
          "text": [
            "0.32608695652173914\n"
          ]
        }
      ]
    }
  ]
}